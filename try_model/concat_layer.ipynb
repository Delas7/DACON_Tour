{
 "cells": [
  {
   "cell_type": "code",
   "execution_count": 1,
   "id": "8f3be72d",
   "metadata": {},
   "outputs": [],
   "source": [
    "import numpy as np\n",
    "import pandas as pd\n",
    "import tensorflow as tf\n",
    "from tqdm import tqdm\n",
    "from PIL import Image\n",
    "import warnings\n",
    "warnings.filterwarnings('ignore')"
   ]
  },
  {
   "cell_type": "code",
   "execution_count": 2,
   "id": "d0574e8f",
   "metadata": {},
   "outputs": [],
   "source": [
    "import tensorflow.keras.layers as lay"
   ]
  },
  {
   "cell_type": "code",
   "execution_count": 92,
   "id": "f51e0d1a",
   "metadata": {},
   "outputs": [],
   "source": [
    "inputs_word = lay.Input(shape=(10000,))\n",
    "dense_word_1 = lay.Dense(512, activation='relu')(inputs_word)\n",
    "dropout_word_1 = lay.Dropout(0.5)(dense_word_1)\n",
    "dense_word_2 = lay.Dense(256, activation='relu')(dropout_word_1)\n",
    "dropout_word_2 = lay.Dropout(0.5)(dense_word_2)\n",
    "dense_word_3 = lay.Dense(128, activation='relu')(dropout_word_2)\n",
    "\n",
    "\n",
    "inputs_img = lay.Input(shape=(128,128,3,))\n",
    "\n",
    "conv_1 = lay.Conv2D(4, kernel_size=3, strides=2, padding='same')(inputs_img)\n",
    "batch_1 = lay.BatchNormalization()(conv_1)\n",
    "acti_1 = lay.Activation('relu')(batch_1)\n",
    "maxpool_1 = lay.MaxPooling2D(pool_size=3, strides=2, padding='same')(acti_1)\n",
    "dropout_conv1 = lay.Dropout(0.3)(maxpool_1)\n",
    "\n",
    "conv_2 = lay.Conv2D(16, kernel_size=3, strides=2, padding='same')(dropout_conv1)\n",
    "batch_2 = lay.BatchNormalization()(conv_2)\n",
    "acti_2 = lay.Activation('relu')(batch_2)\n",
    "maxpool_2 = lay.MaxPooling2D(pool_size=3, strides=2, padding='same')(acti_2)\n",
    "dropout_conv2 = lay.Dropout(0.3)(maxpool_2)\n",
    "\n",
    "conv_3 = lay.Conv2D(64, kernel_size=3, strides=2, padding='same')(dropout_conv2)\n",
    "batch_3 = lay.BatchNormalization()(conv_3)\n",
    "acti_3 = lay.Activation('relu')(batch_3)\n",
    "maxpool_3 = lay.MaxPooling2D(pool_size=3, strides=2, padding='same')(acti_3)\n",
    "\n",
    "flatten = lay.Flatten()(dropout_conv2)\n",
    "# dense_in_img = lay.Dense(128, activation='softmax')(flatten)\n",
    "dropout_img_1 = lay.Dropout(0.4)(flatten)\n",
    "\n",
    "concat = lay.Concatenate()([dense_word_2, dropout_img_1])\n",
    "\n",
    "dense_1 = lay.Dense(256, activation='relu')(concat)\n",
    "# dense_2 = lay.Dense(256, activation='relu')(dense_1)\n",
    "\n",
    "outputs = lay.Dense(128, activation='softmax')(dropout_word_2)"
   ]
  },
  {
   "cell_type": "code",
   "execution_count": 81,
   "id": "c141f43d",
   "metadata": {},
   "outputs": [],
   "source": [
    "model = tf.keras.models.Model(inputs = [inputs_word, inputs_img], outputs = outputs)"
   ]
  },
  {
   "cell_type": "code",
   "execution_count": 93,
   "id": "b2dfd7fd",
   "metadata": {},
   "outputs": [],
   "source": [
    "model = tf.keras.models.Model(inputs = inputs_word, outputs = outputs)"
   ]
  },
  {
   "cell_type": "code",
   "execution_count": 82,
   "id": "6c10dfa5",
   "metadata": {},
   "outputs": [],
   "source": [
    "opt_adam = tf.keras.optimizers.Adam(learning_rate=0.0005)"
   ]
  },
  {
   "cell_type": "code",
   "execution_count": 94,
   "id": "c56eb8dd",
   "metadata": {},
   "outputs": [],
   "source": [
    "model.compile(optimizer='Adam', loss='sparse_categorical_crossentropy', metrics=['acc'])"
   ]
  },
  {
   "cell_type": "code",
   "execution_count": 7,
   "id": "a56de8fa",
   "metadata": {},
   "outputs": [],
   "source": [
    "data = pd.read_csv('train.csv')"
   ]
  },
  {
   "cell_type": "code",
   "execution_count": 8,
   "id": "4d0a60dc",
   "metadata": {},
   "outputs": [],
   "source": [
    "train_text = data['overview']\n",
    "train_target = data['cat3']"
   ]
  },
  {
   "cell_type": "code",
   "execution_count": 9,
   "id": "40c26603",
   "metadata": {},
   "outputs": [],
   "source": [
    "categori = train_target.unique()"
   ]
  },
  {
   "cell_type": "code",
   "execution_count": 10,
   "id": "a84f8186",
   "metadata": {},
   "outputs": [
    {
     "data": {
      "text/plain": [
       "128"
      ]
     },
     "execution_count": 10,
     "metadata": {},
     "output_type": "execute_result"
    }
   ],
   "source": [
    "len(categori)"
   ]
  },
  {
   "cell_type": "code",
   "execution_count": 11,
   "id": "9aebbe0f",
   "metadata": {},
   "outputs": [],
   "source": [
    "from sklearn.preprocessing import LabelEncoder\n",
    "encoder = LabelEncoder()\n",
    "encoder.fit(train_target)\n",
    "train_target_label = encoder.transform(train_target)"
   ]
  },
  {
   "cell_type": "code",
   "execution_count": 12,
   "id": "3351a31c",
   "metadata": {},
   "outputs": [],
   "source": [
    "train_img = np.load('test_img.npy')"
   ]
  },
  {
   "cell_type": "code",
   "execution_count": 13,
   "id": "82334a30",
   "metadata": {},
   "outputs": [
    {
     "name": "stdout",
     "output_type": "stream",
     "text": [
      "filepath:  C:\\Anaconda3\\lib\\site-packages\n",
      "classpath:  C:\\Anaconda3\\lib\\site-packages\\rhinoMorph/lib/rhino.jar\n",
      "RHINO started!\n"
     ]
    }
   ],
   "source": [
    "import rhinoMorph\n",
    "rn = rhinoMorph.startRhino()"
   ]
  },
  {
   "cell_type": "code",
   "execution_count": 14,
   "id": "87da8893",
   "metadata": {},
   "outputs": [
    {
     "name": "stderr",
     "output_type": "stream",
     "text": [
      "100%|███████████████████████████████████████████████████████████████████████████| 16986/16986 [01:04<00:00, 265.17it/s]\n"
     ]
    }
   ],
   "source": [
    "train_morphed = []\n",
    "for i in tqdm(range(len(train_text))):\n",
    "    temp = train_text.iloc[i]\n",
    "    temp_morph = rhinoMorph.onlyMorph_list(rn, temp, pos=['NNG','NNP','VV','VA','XR'])\n",
    "    train_morphed.append(temp_morph)"
   ]
  },
  {
   "cell_type": "code",
   "execution_count": 15,
   "id": "a94abfa4",
   "metadata": {},
   "outputs": [],
   "source": [
    "with open('한국어불용어100.txt', 'r', encoding='utf-8') as f:\n",
    "    temp_stopword = f.read().splitlines()\n",
    "    temp_stopword = list(map(lambda x : x.split('\\t'), temp_stopword))\n",
    "\n",
    "stop_word = []\n",
    "for i in range(len(temp_stopword)):\n",
    "    stop_word.append(temp_stopword[i][0])"
   ]
  },
  {
   "cell_type": "code",
   "execution_count": 16,
   "id": "d4a9ac98",
   "metadata": {},
   "outputs": [
    {
     "name": "stderr",
     "output_type": "stream",
     "text": [
      "100%|█████████████████████████████████████████████████████████████████████████| 16986/16986 [00:01<00:00, 15153.32it/s]\n"
     ]
    }
   ],
   "source": [
    "joined_morph = []\n",
    "for i in tqdm(range(len(train_morphed))):\n",
    "    temp = []\n",
    "    for word in train_morphed[i]:\n",
    "        if word not in stop_word:\n",
    "            temp.append(word)\n",
    "    joined_morph.append(' '.join(temp))\n",
    "    "
   ]
  },
  {
   "cell_type": "code",
   "execution_count": 17,
   "id": "9921498a",
   "metadata": {},
   "outputs": [],
   "source": [
    "from sklearn.feature_extraction.text import CountVectorizer"
   ]
  },
  {
   "cell_type": "code",
   "execution_count": 95,
   "id": "4d13195a",
   "metadata": {},
   "outputs": [],
   "source": [
    "cntvec = CountVectorizer(max_features=10000)"
   ]
  },
  {
   "cell_type": "code",
   "execution_count": 96,
   "id": "1df8108b",
   "metadata": {},
   "outputs": [
    {
     "data": {
      "text/plain": [
       "CountVectorizer(analyzer='word', binary=False, decode_error='strict',\n",
       "                dtype=<class 'numpy.int64'>, encoding='utf-8', input='content',\n",
       "                lowercase=True, max_df=1.0, max_features=10000, min_df=1,\n",
       "                ngram_range=(1, 1), preprocessor=None, stop_words=None,\n",
       "                strip_accents=None, token_pattern='(?u)\\\\b\\\\w\\\\w+\\\\b',\n",
       "                tokenizer=None, vocabulary=None)"
      ]
     },
     "execution_count": 96,
     "metadata": {},
     "output_type": "execute_result"
    }
   ],
   "source": [
    "cntvec.fit(joined_morph)"
   ]
  },
  {
   "cell_type": "code",
   "execution_count": 97,
   "id": "038aa99b",
   "metadata": {},
   "outputs": [],
   "source": [
    "es = tf.keras.callbacks.EarlyStopping(patience=5, restore_best_weights=True)"
   ]
  },
  {
   "cell_type": "code",
   "execution_count": 98,
   "id": "b84f6022",
   "metadata": {},
   "outputs": [],
   "source": [
    "train_text_vec = cntvec.transform(joined_morph).toarray()"
   ]
  },
  {
   "cell_type": "code",
   "execution_count": 88,
   "id": "0dd9f4ec",
   "metadata": {},
   "outputs": [],
   "source": [
    "train_input = [train_text_vec, train_img]"
   ]
  },
  {
   "cell_type": "code",
   "execution_count": 99,
   "id": "c35eeecf",
   "metadata": {},
   "outputs": [
    {
     "name": "stdout",
     "output_type": "stream",
     "text": [
      "Epoch 1/20\n",
      "213/213 [==============================] - 5s 24ms/step - loss: 2.4715 - acc: 0.5115 - val_loss: 1.4226 - val_acc: 0.7039\n",
      "Epoch 2/20\n",
      "213/213 [==============================] - 5s 23ms/step - loss: 1.1360 - acc: 0.7465 - val_loss: 1.1092 - val_acc: 0.7496\n",
      "Epoch 3/20\n",
      "213/213 [==============================] - 5s 23ms/step - loss: 0.6584 - acc: 0.8424 - val_loss: 1.0630 - val_acc: 0.7628\n",
      "Epoch 4/20\n",
      "213/213 [==============================] - 5s 23ms/step - loss: 0.3923 - acc: 0.9020 - val_loss: 1.1121 - val_acc: 0.7613\n",
      "Epoch 5/20\n",
      "213/213 [==============================] - 5s 23ms/step - loss: 0.2551 - acc: 0.9352 - val_loss: 1.1804 - val_acc: 0.7575\n",
      "Epoch 6/20\n",
      "213/213 [==============================] - 5s 24ms/step - loss: 0.1799 - acc: 0.9546 - val_loss: 1.2141 - val_acc: 0.7590\n",
      "Epoch 7/20\n",
      "213/213 [==============================] - 5s 24ms/step - loss: 0.1285 - acc: 0.9692 - val_loss: 1.2669 - val_acc: 0.7572\n",
      "Epoch 8/20\n",
      "213/213 [==============================] - 5s 24ms/step - loss: 0.0998 - acc: 0.9746 - val_loss: 1.3488 - val_acc: 0.7540\n"
     ]
    }
   ],
   "source": [
    "history = model.fit(train_text_vec, train_target_label,epochs=20, batch_size=64, validation_split=0.2, callbacks=[es])"
   ]
  },
  {
   "cell_type": "code",
   "execution_count": null,
   "id": "5a4f18d0",
   "metadata": {},
   "outputs": [],
   "source": []
  },
  {
   "cell_type": "code",
   "execution_count": 25,
   "id": "fd443fc7",
   "metadata": {},
   "outputs": [],
   "source": [
    "test_data = pd.read_csv('test.csv')"
   ]
  },
  {
   "cell_type": "code",
   "execution_count": 26,
   "id": "9f2cb00f",
   "metadata": {},
   "outputs": [
    {
     "name": "stderr",
     "output_type": "stream",
     "text": [
      "100%|██████████████████████████████████████████████████████████████████████████████| 7280/7280 [01:28<00:00, 81.99it/s]\n"
     ]
    }
   ],
   "source": [
    "test_img = []\n",
    "for i in tqdm(range(len(test_data))):\n",
    "    temp = Image.open(test_data['img_path'].iloc[i])\n",
    "    temp = np.array(temp.resize((128,128)))\n",
    "    test_img.append(temp)"
   ]
  },
  {
   "cell_type": "code",
   "execution_count": 27,
   "id": "2ac14a83",
   "metadata": {},
   "outputs": [
    {
     "name": "stderr",
     "output_type": "stream",
     "text": [
      "100%|█████████████████████████████████████████████████████████████████████████████| 7280/7280 [00:28<00:00, 258.53it/s]\n"
     ]
    }
   ],
   "source": [
    "test_morphed = []\n",
    "for i in tqdm(range(len(test_data))):\n",
    "    temp = test_data['overview'].iloc[i]\n",
    "    temp_morph = rhinoMorph.onlyMorph_list(rn, temp, pos=['NNG','NNP','VV','VA','XR'])\n",
    "    test_morphed.append(temp_morph)"
   ]
  },
  {
   "cell_type": "code",
   "execution_count": 28,
   "id": "003960ae",
   "metadata": {},
   "outputs": [],
   "source": [
    "test_joined = list(map(lambda x:' '.join(x), test_morphed))"
   ]
  },
  {
   "cell_type": "code",
   "execution_count": 29,
   "id": "e64a8865",
   "metadata": {},
   "outputs": [],
   "source": [
    "test_morphed_vec = cntvec.transform(test_joined).toarray()"
   ]
  },
  {
   "cell_type": "code",
   "execution_count": 30,
   "id": "fd11e739",
   "metadata": {},
   "outputs": [],
   "source": [
    "test_input = [test_morphed_vec, np.array(test_img)]"
   ]
  },
  {
   "cell_type": "code",
   "execution_count": 100,
   "id": "a4aae45a",
   "metadata": {},
   "outputs": [],
   "source": [
    "result = model.predict(test_morphed_vec)"
   ]
  },
  {
   "cell_type": "code",
   "execution_count": 101,
   "id": "fd57d3ed",
   "metadata": {},
   "outputs": [],
   "source": [
    "result_idx = pd.Series(np.argmax(result, axis=1)).apply(lambda x : encoder.classes_[x])"
   ]
  },
  {
   "cell_type": "code",
   "execution_count": 102,
   "id": "cdf4c42f",
   "metadata": {},
   "outputs": [
    {
     "data": {
      "text/plain": [
       "0              한식\n",
       "1              한식\n",
       "2              한식\n",
       "3            수련시설\n",
       "4               산\n",
       "          ...    \n",
       "7275           한식\n",
       "7276          문화원\n",
       "7277    야영장,오토캠핑장\n",
       "7278           모텔\n",
       "7279          전시관\n",
       "Length: 7280, dtype: object"
      ]
     },
     "execution_count": 102,
     "metadata": {},
     "output_type": "execute_result"
    }
   ],
   "source": [
    "result_idx"
   ]
  },
  {
   "cell_type": "code",
   "execution_count": 103,
   "id": "410f8f5d",
   "metadata": {},
   "outputs": [
    {
     "data": {
      "text/plain": [
       "(array(['5일장', '강', '게스트하우스', '계곡', '고궁', '고택', '골프', '공연장', '공예,공방', '공원',\n",
       "        '관광단지', '국립공원', '기념관', '기념탑/기념비/전망대', '기암괴석', '기타', '기타행사',\n",
       "        '농.산.어촌 체험', '다리/대교', '대형서점', '도서관', '동굴', '동상', '등대', '래프팅', '모텔',\n",
       "        '문', '문화원', '문화전수시설', '미술관/화랑', '민물낚시', '민박', '민속마을', '바/까페',\n",
       "        '바다낚시', '박람회', '박물관', '분수', '사찰', '산', '상설시장', '생가', '서양식', '섬',\n",
       "        '성', '수련시설', '수목원', '스키(보드) 렌탈샵', '승마', '식음료', '썰매장', '안보관광',\n",
       "        '야영장,오토캠핑장', '약수터', '온천/욕장/스파', '윈드서핑/제트스키', '유람선/잠수함관광', '유명건물',\n",
       "        '유스호스텔', '유원지', '유적지/사적지', '이색거리', '일반축제', '일식', '자동차경주',\n",
       "        '자연생태관광지', '자연휴양림', '자전거하이킹', '전문상가', '전시관', '종교성지', '중식', '카트',\n",
       "        '컨벤션센터', '테마공원', '트래킹', '특산물판매점', '패밀리레스토랑', '펜션', '폭포', '한식',\n",
       "        '한옥스테이', '항구/포구', '해수욕장', '해안절경', '호수', '홈스테이', '희귀동.식물'],\n",
       "       dtype=object),\n",
       " array([  80,   33,   31,   94,   16,   26,   87,   50,   11,  192,   44,\n",
       "           1,   39,   66,    9,   17,   27,  143,    5,    3,   44,    4,\n",
       "           4,    7,    4,  186,    2,   54,    9,  112,   52,    3,   15,\n",
       "         370,   22,    2,  160,    1,  230,  120,  118,   12,   79,   43,\n",
       "          32,   55,   25,   24,   11,    1,    5,    3,  693,    3,   25,\n",
       "          20,    8,   65,    1,   68,  314,  179,  281,   39,    5,  106,\n",
       "          36,    2,   81,   82,   22,   89,    1,    1,   63,  110,    2,\n",
       "          14,  178,   20, 1607,  186,   57,  109,    1,    2,    2,   25],\n",
       "       dtype=int64))"
      ]
     },
     "execution_count": 103,
     "metadata": {},
     "output_type": "execute_result"
    }
   ],
   "source": [
    "np.unique(result_idx, return_counts=True)"
   ]
  },
  {
   "cell_type": "code",
   "execution_count": 37,
   "id": "f391efc3",
   "metadata": {},
   "outputs": [
    {
     "data": {
      "text/plain": [
       "(array(['5일장', 'ATV', 'MTB', '강', '게스트하우스', '계곡', '고궁', '고택', '골프', '공연장',\n",
       "        '공예,공방', '공원', '관광단지', '국립공원', '군립공원', '기념관', '기념탑/기념비/전망대',\n",
       "        '기암괴석', '기타', '기타행사', '농.산.어촌 체험', '다리/대교', '대중콘서트', '대형서점',\n",
       "        '도립공원', '도서관', '동굴', '동상', '등대', '래프팅', '면세점', '모텔', '문', '문화관광축제',\n",
       "        '문화원', '문화전수시설', '뮤지컬', '미술관/화랑', '민물낚시', '민박', '민속마을', '바/까페',\n",
       "        '바다낚시', '박람회', '박물관', '발전소', '백화점', '번지점프', '복합 레포츠', '분수', '빙벽등반',\n",
       "        '사격장', '사찰', '산', '상설시장', '생가', '서비스드레지던스', '서양식', '섬', '성',\n",
       "        '수련시설', '수목원', '수상레포츠', '수영', '스노쿨링/스킨스쿠버다이빙', '스카이다이빙', '스케이트',\n",
       "        '스키(보드) 렌탈샵', '스키/스노보드', '승마', '식음료', '썰매장', '안보관광', '야영장,오토캠핑장',\n",
       "        '약수터', '연극', '영화관', '온천/욕장/스파', '외국문화원', '요트', '윈드서핑/제트스키',\n",
       "        '유람선/잠수함관광', '유명건물', '유스호스텔', '유원지', '유적지/사적지', '이색거리', '이색찜질방',\n",
       "        '이색체험', '인라인(실내 인라인 포함)', '일반축제', '일식', '자동차경주', '자연생태관광지',\n",
       "        '자연휴양림', '자전거하이킹', '전문상가', '전시관', '전통공연', '종교성지', '중식', '채식전문점',\n",
       "        '카약/카누', '카지노', '카트', '컨벤션', '컨벤션센터', '콘도미니엄', '클래식음악회', '클럽',\n",
       "        '터널', '테마공원', '트래킹', '특산물판매점', '패밀리레스토랑', '펜션', '폭포', '학교', '한식',\n",
       "        '한옥스테이', '항구/포구', '해수욕장', '해안절경', '헬스투어', '헹글라이딩/패러글라이딩', '호수',\n",
       "        '홈스테이', '희귀동.식물'], dtype=object),\n",
       " array([ 165,    4,    2,  104,   83,  160,   36,   92,  179,  120,   41,\n",
       "         271,  126,   21,   11,   64,  148,   53,   79,   71,  332,   41,\n",
       "           2,   17,   15,   92,   20,   18,   24,   18,    6,  340,   23,\n",
       "          20,  113,   26,    2,  204,  119,   39,   76,  785,   57,   29,\n",
       "         310,    4,    4,    4,   24,    8,    4,    9,  495,  239,  270,\n",
       "          43,   12,  226,  111,   85,   95,   95,   11,   27,    7,    2,\n",
       "          12,   60,    6,   21,   10,   27,   34, 1558,   17,    5,    4,\n",
       "          53,    7,   12,   27,   30,  105,   20,  211,  622,  467,   11,\n",
       "           6,    2,  549,  151,   35,  207,  118,   13,  173,  243,    6,\n",
       "          65,  209,   36,   10,    4,    7,   22,   11,   34,    2,    6,\n",
       "           8,  172,  246,   37,   61,  445,   40,    9, 3438,  404,  134,\n",
       "         207,   25,   15,    9,   30,   57,   88], dtype=int64))"
      ]
     },
     "execution_count": 37,
     "metadata": {},
     "output_type": "execute_result"
    }
   ],
   "source": [
    "np.unique(data['cat3'],return_counts=True)"
   ]
  },
  {
   "cell_type": "code",
   "execution_count": 104,
   "id": "db0c263d",
   "metadata": {},
   "outputs": [],
   "source": [
    "submit_df = pd.read_csv('sample_submission.csv')\n",
    "submit_df['cat3'] = result_idx\n",
    "submit_df.to_csv('submit_1007_1.csv', index=False)"
   ]
  },
  {
   "cell_type": "code",
   "execution_count": 53,
   "id": "45489ba6",
   "metadata": {},
   "outputs": [
    {
     "data": {
      "text/plain": [
       "'장터설렁탕은 남녀노소 누구나 즐길 수 있는 전통 건강식으로 좋은 재료와 전통 조리방식을 고수해 진한 국물 맛을 선보이는 음식점이다. \\n오랜 장터설렁탕의 비법으로 조미료를 사용하지 않아 담백하고, 진하고, 시원한 국물을 맛볼 수 있다. 설렁탕 외에도 다양하고 맛있는 메뉴가 있어 가족들과 함께 외식하기 좋다. 넓은 주차장과 아늑한 실내 인테리어로 가족 단위의 모임을 하기에 좋다.'"
      ]
     },
     "execution_count": 53,
     "metadata": {},
     "output_type": "execute_result"
    }
   ],
   "source": [
    "test_data['overview'][2]"
   ]
  },
  {
   "cell_type": "code",
   "execution_count": null,
   "id": "95219c6c",
   "metadata": {},
   "outputs": [],
   "source": []
  }
 ],
 "metadata": {
  "kernelspec": {
   "display_name": "Python 3 (ipykernel)",
   "language": "python",
   "name": "python3"
  },
  "language_info": {
   "codemirror_mode": {
    "name": "ipython",
    "version": 3
   },
   "file_extension": ".py",
   "mimetype": "text/x-python",
   "name": "python",
   "nbconvert_exporter": "python",
   "pygments_lexer": "ipython3",
   "version": "3.7.4"
  }
 },
 "nbformat": 4,
 "nbformat_minor": 5
}
