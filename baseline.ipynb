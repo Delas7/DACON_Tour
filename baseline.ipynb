{
 "cells": [
  {
   "cell_type": "code",
   "execution_count": 78,
   "id": "382267c1",
   "metadata": {},
   "outputs": [
    {
     "name": "stdout",
     "output_type": "stream",
     "text": [
      "filepath:  C:\\Anaconda3\\lib\\site-packages\n",
      "classpath:  C:\\Anaconda3\\lib\\site-packages\\rhinoMorph/lib/rhino.jar\n",
      "JVM is already started~\n",
      "RHINO started!\n"
     ]
    }
   ],
   "source": [
    "import numpy as np\n",
    "import pandas as pd\n",
    "import tensorflow as tf\n",
    "import os, sys\n",
    "import pickle\n",
    "\n",
    "from PIL import Image\n",
    "from tqdm import tqdm\n",
    "from sklearn.model_selection import train_test_split\n",
    "\n",
    "import rhinoMorph\n",
    "rn = rhinoMorph.startRhino()\n",
    "import warnings\n",
    "warnings.filterwarnings('ignore')\n"
   ]
  },
  {
   "cell_type": "code",
   "execution_count": 80,
   "id": "178e8b06",
   "metadata": {},
   "outputs": [],
   "source": [
    "class RawData:\n",
    "    pos = ['NNG','NNP','VV','VA','XR']\n",
    "    def __init__(self):\n",
    "        train_data = pd.read_csv('train.csv')\n",
    "        test_data = pd.read_csv('test.csv')\n",
    "        \n",
    "        self.train_img = []\n",
    "        self.test_img = []\n",
    "        self.train_text = []\n",
    "        self.test_text = []\n",
    "        \n",
    "        \n",
    "        with open('./data/한국어불용어100.txt', 'r', encoding='utf-8') as f:\n",
    "            temp_stopword = f.read().splitlines()\n",
    "            temp_stopword = list(map(lambda x : x.split('\\t'), temp_stopword))\n",
    "\n",
    "        stop_word = []\n",
    "        for i in range(len(temp_stopword)):\n",
    "            stop_word.append(temp_stopword[i][0])\n",
    "        \n",
    "        \n",
    "        for i in tqdm(range(len(train_data))):\n",
    "            temp = Image.open(train_data['img_path'].iloc[i]).resize((128,128))\n",
    "            self.train_img.append(np.array(temp))\n",
    "            \n",
    "            temp_morph = rhinoMorph.onlyMorph_list(rn, train_data['overview'].iloc[i], pos=RawData.pos)\n",
    "            joined = []\n",
    "            for word in temp_morph:\n",
    "                if word in stop_word:\n",
    "                    continue\n",
    "                joined.append(word)\n",
    "            self.train_text.append(' '.join(joined))\n",
    "        \n",
    "        \n",
    "        for i in tqdm(range(len(test_data))):\n",
    "            temp = Image.open(test_data['img_path'].iloc[i]).resize((128,128))\n",
    "            self.test_img.append(np.array(temp))\n",
    "            \n",
    "            temp_morph = rhinoMorph.onlyMorph_list(rn, test_data['overview'].iloc[i], pos=RawData.pos)\n",
    "            joined = []\n",
    "            for word in temp_morph:\n",
    "                if word in stop_word:\n",
    "                    continue\n",
    "                joined.append(word)\n",
    "            self.test_text.append(' '.join(joined))\n",
    "            \n",
    "        self.target_cat1 = train_data['cat1']\n",
    "        self.target_cat3 = train_data['cat3']\n",
    "        \n",
    "        \n",
    "            "
   ]
  },
  {
   "cell_type": "code",
   "execution_count": 3,
   "id": "fc6d07df",
   "metadata": {},
   "outputs": [],
   "source": [
    "train_data = pd.read_csv('train.csv')"
   ]
  },
  {
   "cell_type": "code",
   "execution_count": 16,
   "id": "ccb6dd94",
   "metadata": {},
   "outputs": [],
   "source": [
    "temp = Image.open(train_data['img_path'].iloc[0])"
   ]
  },
  {
   "cell_type": "code",
   "execution_count": 21,
   "id": "62ef0bee",
   "metadata": {},
   "outputs": [
    {
     "data": {
      "image/png": "[encoded data removed]",
      "text/plain": [
       "<PIL.Image.Image image mode=RGB size=128x128>"
      ]
     },
     "execution_count": 21,
     "metadata": {},
     "output_type": "execute_result"
    }
   ],
   "source": [
    "temp.resize((128,128))"
   ]
  },
  {
   "cell_type": "code",
   "execution_count": 81,
   "id": "15b483ef",
   "metadata": {},
   "outputs": [
    {
     "name": "stderr",
     "output_type": "stream",
     "text": [
      "100%|████████████████████████████████████████████████████████████████████████████| 16986/16986 [04:02<00:00, 70.00it/s]\n",
      "100%|██████████████████████████████████████████████████████████████████████████████| 7280/7280 [01:40<00:00, 72.34it/s]\n"
     ]
    }
   ],
   "source": [
    "data = RawData()"
   ]
  },
  {
   "cell_type": "code",
   "execution_count": 221,
   "id": "89fdf0d5",
   "metadata": {},
   "outputs": [],
   "source": [
    "train_X_text = data.train_text\n",
    "train_X_img = data.train_img\n",
    "\n",
    "test_X_text = data.test_text\n",
    "test_X_img = data.test_img\n",
    "\n",
    "train_y = data.target_cat3"
   ]
  },
  {
   "cell_type": "code",
   "execution_count": 118,
   "id": "d68fb474",
   "metadata": {},
   "outputs": [],
   "source": [
    "mask = (np.unique(train_y, return_counts=True)[1] > 10)"
   ]
  },
  {
   "cell_type": "code",
   "execution_count": null,
   "id": "3642aae8",
   "metadata": {},
   "outputs": [],
   "source": []
  },
  {
   "cell_type": "code",
   "execution_count": 8,
   "id": "81e9f9d9",
   "metadata": {},
   "outputs": [
    {
     "data": {
      "text/plain": [
       "0        소안항 조용 섬 인근 해안 청정 해역 일찍이 김 양식 하 높 소득 올리 있 바다 낚...\n",
       "1        경기도 이천시 모가면 골프장 대중 홀 회원 개장 하 대중 전환 재개 장 하 총 부지...\n",
       "2        금오산성 숯불갈비 한우 고기 전문적 취급 사용 부식 자재 또한 유기농법 재배 하 청...\n",
       "3        철판 위 요리 하 안동 찜 닭 맛보 곳 경상북도 안동시 한식 전문점 대표 메뉴 안동...\n",
       "4                            영업시간 걸치 아귀 전문 취급 전통 역사 자랑 음식점\n",
       "                               ...                        \n",
       "16981                      해발 자리 하 담 카페 점 점 곤드레 밥 감자전 판매 있\n",
       "16982    설악 힐 호텔 동해고속도로 속초 톨게이트 무엇 관광 있 속초 대표 여행지 청초호 속...\n",
       "16983    충남 서산시 중심가 위치 하 줌 모텔 프라이 버스 보장 되 조용 공간 가치 높 도심...\n",
       "16984    토토 크 바위 캠핑장 경기도 가평 지역 내 청정 지역 손꼽히 지역 주변 화악산 봉 ...\n",
       "16985    포천 진산 불리우 왕방산 천년 역사 간직 왕산사 자리 있 일찍이 도선국 절 창건 머...\n",
       "Length: 16986, dtype: object"
      ]
     },
     "execution_count": 8,
     "metadata": {},
     "output_type": "execute_result"
    }
   ],
   "source": [
    "pd.Series(train_X_text)"
   ]
  },
  {
   "cell_type": "code",
   "execution_count": 196,
   "id": "b9179558",
   "metadata": {},
   "outputs": [],
   "source": [
    "max_words = 15000"
   ]
  },
  {
   "cell_type": "code",
   "execution_count": 197,
   "id": "00636298",
   "metadata": {},
   "outputs": [],
   "source": [
    "from tensorflow.keras.preprocessing.text import Tokenizer\n",
    "from tensorflow.keras.preprocessing.sequence import pad_sequences"
   ]
  },
  {
   "cell_type": "code",
   "execution_count": 198,
   "id": "c13ae64f",
   "metadata": {},
   "outputs": [],
   "source": [
    "tokenizer = Tokenizer(num_words=max_words)"
   ]
  },
  {
   "cell_type": "code",
   "execution_count": 199,
   "id": "d7f95298",
   "metadata": {},
   "outputs": [],
   "source": [
    "tokenizer.fit_on_texts(train_X_text)"
   ]
  },
  {
   "cell_type": "code",
   "execution_count": 200,
   "id": "654f2bd5",
   "metadata": {},
   "outputs": [],
   "source": [
    "train_X_token = tokenizer.texts_to_sequences(train_X_text)"
   ]
  },
  {
   "cell_type": "code",
   "execution_count": 201,
   "id": "e5df787f",
   "metadata": {},
   "outputs": [],
   "source": [
    "train_X_pad = pad_sequences(train_X_token, maxlen=200)"
   ]
  },
  {
   "cell_type": "code",
   "execution_count": 202,
   "id": "9f4ea41d",
   "metadata": {},
   "outputs": [],
   "source": [
    "from tensorflow.keras.layers import Dense, LSTM, Dropout, Input, BatchNormalization, Activation, Embedding"
   ]
  },
  {
   "cell_type": "code",
   "execution_count": 209,
   "id": "260ba0c5",
   "metadata": {},
   "outputs": [],
   "source": [
    "class Text_model:\n",
    "    def __init__(self, max_words, embedding_dimension, length, num_label):\n",
    "        inputs = Input(shape=(length,))\n",
    "        emb = Embedding(input_dim = max_words, output_dim = embedding_dimension, input_length = length)(inputs)\n",
    "        \n",
    "        lstm1 = LSTM(64, return_sequences = True)(emb)\n",
    "        drop = Dropout(0.5)\n",
    "        lstm2 = LSTM(128)(emb)\n",
    "        drop1 = Dropout(0.5)\n",
    "        \n",
    "        dense1 = Dense(256, activation='relu')(lstm2)\n",
    "        drop2 = Dropout(0.5)(dense1)\n",
    "        dense2 = Dense(128, activation='relu')(drop2)\n",
    "        \n",
    "        outputs = Dense(num_label, activation='softmax')(dense2)\n",
    "        \n",
    "        self.model = tf.keras.models.Model(inputs, outputs)"
   ]
  },
  {
   "cell_type": "code",
   "execution_count": 210,
   "id": "364944fe",
   "metadata": {},
   "outputs": [],
   "source": [
    "model = Text_model(max_words, 150, 200, 128)"
   ]
  },
  {
   "cell_type": "code",
   "execution_count": 211,
   "id": "03a9798d",
   "metadata": {},
   "outputs": [
    {
     "data": {
      "text/plain": [
       "(16986, 200)"
      ]
     },
     "execution_count": 211,
     "metadata": {},
     "output_type": "execute_result"
    }
   ],
   "source": [
    "train_X_pad.shape"
   ]
  },
  {
   "cell_type": "code",
   "execution_count": 222,
   "id": "090c856f",
   "metadata": {},
   "outputs": [],
   "source": [
    "from sklearn.preprocessing import LabelEncoder\n",
    "encoder = LabelEncoder()\n",
    "train_y = encoder.fit_transform(train_y)"
   ]
  },
  {
   "cell_type": "code",
   "execution_count": 213,
   "id": "770a3a66",
   "metadata": {},
   "outputs": [],
   "source": [
    "model.model.compile(optimizer='Adam', loss='sparse_categorical_crossentropy', metrics=['acc'])"
   ]
  },
  {
   "cell_type": "code",
   "execution_count": 214,
   "id": "80d7a4f1",
   "metadata": {},
   "outputs": [
    {
     "name": "stdout",
     "output_type": "stream",
     "text": [
      "Epoch 1/100\n",
      "425/425 [==============================] - 70s 166ms/step - loss: 3.2406 - acc: 0.2711 - val_loss: 2.6689 - val_acc: 0.3670\n",
      "Epoch 2/100\n",
      "425/425 [==============================] - 72s 168ms/step - loss: 2.3450 - acc: 0.4299 - val_loss: 2.1525 - val_acc: 0.4732\n",
      "Epoch 3/100\n",
      "425/425 [==============================] - 72s 170ms/step - loss: 1.7758 - acc: 0.5344 - val_loss: 2.0218 - val_acc: 0.5324\n",
      "Epoch 4/100\n",
      "425/425 [==============================] - 72s 170ms/step - loss: 1.3711 - acc: 0.6197 - val_loss: 1.8301 - val_acc: 0.5653\n",
      "Epoch 5/100\n",
      "425/425 [==============================] - 73s 172ms/step - loss: 1.0738 - acc: 0.6919 - val_loss: 1.8911 - val_acc: 0.5954\n",
      "Epoch 6/100\n",
      "425/425 [==============================] - 73s 171ms/step - loss: 0.8489 - acc: 0.7492 - val_loss: 1.9999 - val_acc: 0.5951\n",
      "Epoch 7/100\n",
      "425/425 [==============================] - 73s 171ms/step - loss: 0.6739 - acc: 0.8009 - val_loss: 2.1758 - val_acc: 0.6015\n",
      "Epoch 8/100\n",
      "425/425 [==============================] - 73s 172ms/step - loss: 0.5239 - acc: 0.8434 - val_loss: 2.3934 - val_acc: 0.6054\n",
      "Epoch 9/100\n",
      "425/425 [==============================] - 73s 173ms/step - loss: 0.4151 - acc: 0.8714 - val_loss: 2.7196 - val_acc: 0.5965\n",
      "Epoch 10/100\n",
      "425/425 [==============================] - 73s 172ms/step - loss: 0.3279 - acc: 0.9022 - val_loss: 2.8959 - val_acc: 0.6036\n",
      "Epoch 11/100\n",
      "425/425 [==============================] - 72s 170ms/step - loss: 0.2686 - acc: 0.9190 - val_loss: 3.1290 - val_acc: 0.5995\n",
      "Epoch 12/100\n",
      "425/425 [==============================] - 72s 170ms/step - loss: 0.2297 - acc: 0.9312 - val_loss: 3.3396 - val_acc: 0.6012\n",
      "Epoch 13/100\n",
      "425/425 [==============================] - 72s 170ms/step - loss: 0.1841 - acc: 0.9426 - val_loss: 3.5659 - val_acc: 0.5895\n",
      "Epoch 14/100\n",
      "425/425 [==============================] - 72s 169ms/step - loss: 0.1694 - acc: 0.9491 - val_loss: 3.6864 - val_acc: 0.6024\n"
     ]
    },
    {
     "data": {
      "text/plain": [
       "<tensorflow.python.keras.callbacks.History at 0x27d1662a2c8>"
      ]
     },
     "execution_count": 214,
     "metadata": {},
     "output_type": "execute_result"
    }
   ],
   "source": [
    "model.model.fit(train_X_pad, train_y, epochs=100, batch_size=32, validation_split=0.2,\n",
    "               callbacks=[tf.keras.callbacks.EarlyStopping(patience=10, restore_best_weights=True)])"
   ]
  },
  {
   "cell_type": "code",
   "execution_count": 217,
   "id": "85c20347",
   "metadata": {},
   "outputs": [],
   "source": [
    "res = model.model.predict(pad_sequences(tokenizer.texts_to_sequences(test_X_text), maxlen=200))"
   ]
  },
  {
   "cell_type": "code",
   "execution_count": 224,
   "id": "b69bf901",
   "metadata": {},
   "outputs": [
    {
     "data": {
      "text/plain": [
       "array(['5일장', 'ATV', 'MTB', '강', '게스트하우스', '계곡', '고궁', '고택', '골프', '공연장',\n",
       "       '공예,공방', '공원', '관광단지', '국립공원', '군립공원', '기념관', '기념탑/기념비/전망대',\n",
       "       '기암괴석', '기타', '기타행사', '농.산.어촌 체험', '다리/대교', '대중콘서트', '대형서점',\n",
       "       '도립공원', '도서관', '동굴', '동상', '등대', '래프팅', '면세점', '모텔', '문', '문화관광축제',\n",
       "       '문화원', '문화전수시설', '뮤지컬', '미술관/화랑', '민물낚시', '민박', '민속마을', '바/까페',\n",
       "       '바다낚시', '박람회', '박물관', '발전소', '백화점', '번지점프', '복합 레포츠', '분수', '빙벽등반',\n",
       "       '사격장', '사찰', '산', '상설시장', '생가', '서비스드레지던스', '서양식', '섬', '성',\n",
       "       '수련시설', '수목원', '수상레포츠', '수영', '스노쿨링/스킨스쿠버다이빙', '스카이다이빙', '스케이트',\n",
       "       '스키(보드) 렌탈샵', '스키/스노보드', '승마', '식음료', '썰매장', '안보관광', '야영장,오토캠핑장',\n",
       "       '약수터', '연극', '영화관', '온천/욕장/스파', '외국문화원', '요트', '윈드서핑/제트스키',\n",
       "       '유람선/잠수함관광', '유명건물', '유스호스텔', '유원지', '유적지/사적지', '이색거리', '이색찜질방',\n",
       "       '이색체험', '인라인(실내 인라인 포함)', '일반축제', '일식', '자동차경주', '자연생태관광지',\n",
       "       '자연휴양림', '자전거하이킹', '전문상가', '전시관', '전통공연', '종교성지', '중식', '채식전문점',\n",
       "       '카약/카누', '카지노', '카트', '컨벤션', '컨벤션센터', '콘도미니엄', '클래식음악회', '클럽',\n",
       "       '터널', '테마공원', '트래킹', '특산물판매점', '패밀리레스토랑', '펜션', '폭포', '학교', '한식',\n",
       "       '한옥스테이', '항구/포구', '해수욕장', '해안절경', '헬스투어', '헹글라이딩/패러글라이딩', '호수',\n",
       "       '홈스테이', '희귀동.식물'], dtype=object)"
      ]
     },
     "execution_count": 224,
     "metadata": {},
     "output_type": "execute_result"
    }
   ],
   "source": [
    "encoder.classes_"
   ]
  },
  {
   "cell_type": "code",
   "execution_count": 223,
   "id": "995829d5",
   "metadata": {},
   "outputs": [
    {
     "data": {
      "text/plain": [
       "0            바/까페\n",
       "1       농.산.어촌 체험\n",
       "2              한식\n",
       "3             문화원\n",
       "4         자연생태관광지\n",
       "5              한식\n",
       "6            바/까페\n",
       "7              한식\n",
       "8     기념탑/기념비/전망대\n",
       "9            상설시장\n",
       "10            공연장\n",
       "11             한식\n",
       "12      농.산.어촌 체험\n",
       "13             사찰\n",
       "14             한식\n",
       "15             중식\n",
       "16           상설시장\n",
       "17           해수욕장\n",
       "18              산\n",
       "19           수련시설\n",
       "dtype: object"
      ]
     },
     "execution_count": 223,
     "metadata": {},
     "output_type": "execute_result"
    }
   ],
   "source": [
    "pd.Series(np.argmax(res[:20], axis=1)).apply(lambda x: encoder.classes_[x])"
   ]
  },
  {
   "cell_type": "code",
   "execution_count": 98,
   "id": "131651a5",
   "metadata": {},
   "outputs": [
    {
     "data": {
      "text/plain": [
       "'시무 폭포 규봉암 아래 해발 고도 위치 천연 폭포 전체 높이 강수량 날 규모 폭포 주변 이루 암상 무등산 회 암 이루어지 폭포 규모 상담 중단 하단 단계 나뉘 폭포 중간 각도 내려오 마지막 하단부 떨어지 수직 폭포 형태 장관 이루 시무 지기 무지개 전라도 방언 비 그치 햇살 비추 무지개 뜨 붙이 이름'"
      ]
     },
     "execution_count": 98,
     "metadata": {},
     "output_type": "execute_result"
    }
   ],
   "source": [
    "test_X_text[18]"
   ]
  },
  {
   "cell_type": "code",
   "execution_count": null,
   "id": "8fc53cff",
   "metadata": {},
   "outputs": [],
   "source": []
  },
  {
   "cell_type": "code",
   "execution_count": 126,
   "id": "f0f15928",
   "metadata": {},
   "outputs": [],
   "source": [
    "mask = np.unique(train_data['cat3'],return_counts=True)[1] < 10"
   ]
  },
  {
   "cell_type": "code",
   "execution_count": 128,
   "id": "9e34a021",
   "metadata": {},
   "outputs": [],
   "source": [
    "false = encoder.classes_[mask]"
   ]
  },
  {
   "cell_type": "code",
   "execution_count": 140,
   "id": "103be263",
   "metadata": {},
   "outputs": [],
   "source": [
    "false_idx = None\n",
    "for i in false:\n",
    "    temp = train_data['cat3'] == i\n",
    "    if false_idx is None:\n",
    "        false_idx = temp.values\n",
    "    false_idx = temp.values | false_idx"
   ]
  },
  {
   "cell_type": "code",
   "execution_count": 167,
   "id": "664e319d",
   "metadata": {},
   "outputs": [],
   "source": [
    "mask = pd.Series(false_idx).apply(lambda x : not x).values"
   ]
  },
  {
   "cell_type": "code",
   "execution_count": 168,
   "id": "2ec6ba30",
   "metadata": {},
   "outputs": [],
   "source": [
    "de_train_X = np.array(train_X_text)[mask]"
   ]
  },
  {
   "cell_type": "code",
   "execution_count": 169,
   "id": "5740fe4a",
   "metadata": {},
   "outputs": [],
   "source": [
    "de_train_y = np.array(train_data['cat3'])[mask]"
   ]
  },
  {
   "cell_type": "code",
   "execution_count": 170,
   "id": "3e7b7865",
   "metadata": {},
   "outputs": [],
   "source": [
    "tokenizer = Tokenizer(num_words=max_words)\n",
    "\n",
    "tokenizer.fit_on_texts(de_train_X)\n",
    "\n",
    "de_train_X_token = tokenizer.texts_to_sequences(de_train_X)\n",
    "\n",
    "de_train_X_pad = pad_sequences(de_train_X_token, maxlen=150)"
   ]
  },
  {
   "cell_type": "code",
   "execution_count": 171,
   "id": "9dc9e293",
   "metadata": {},
   "outputs": [],
   "source": [
    "de_encoder = LabelEncoder()\n",
    "de_train_y = de_encoder.fit_transform(de_train_y)"
   ]
  },
  {
   "cell_type": "code",
   "execution_count": 172,
   "id": "960356b4",
   "metadata": {},
   "outputs": [],
   "source": [
    "temp_m = Text_model(max_words, 200, 150, len(de_encoder.classes_))"
   ]
  },
  {
   "cell_type": "code",
   "execution_count": 173,
   "id": "9e999702",
   "metadata": {},
   "outputs": [],
   "source": [
    "temp_m.model.compile(optimizer='adam', loss='sparse_categorical_crossentropy', metrics=['acc'])"
   ]
  },
  {
   "cell_type": "code",
   "execution_count": 174,
   "id": "2ac0e4be",
   "metadata": {},
   "outputs": [
    {
     "name": "stdout",
     "output_type": "stream",
     "text": [
      "Epoch 1/100\n",
      "422/422 [==============================] - 60s 143ms/step - loss: 3.1445 - acc: 0.2844 - val_loss: 2.5747 - val_acc: 0.3682\n",
      "Epoch 2/100\n",
      "422/422 [==============================] - 63s 149ms/step - loss: 2.2388 - acc: 0.4330 - val_loss: 2.0744 - val_acc: 0.4573\n",
      "Epoch 3/100\n",
      "422/422 [==============================] - 63s 149ms/step - loss: 1.6578 - acc: 0.5440 - val_loss: 1.8864 - val_acc: 0.5466\n",
      "Epoch 4/100\n",
      "422/422 [==============================] - 63s 149ms/step - loss: 1.2540 - acc: 0.6421 - val_loss: 1.8971 - val_acc: 0.5653\n",
      "Epoch 5/100\n",
      "422/422 [==============================] - 63s 148ms/step - loss: 0.9487 - acc: 0.7210 - val_loss: 1.8697 - val_acc: 0.6027\n",
      "Epoch 6/100\n",
      "422/422 [==============================] - 62s 147ms/step - loss: 0.6963 - acc: 0.7886 - val_loss: 1.9841 - val_acc: 0.6050\n",
      "Epoch 7/100\n",
      "422/422 [==============================] - 62s 148ms/step - loss: 0.5324 - acc: 0.8404 - val_loss: 2.2480 - val_acc: 0.6056\n",
      "Epoch 8/100\n",
      "422/422 [==============================] - 62s 148ms/step - loss: 0.3822 - acc: 0.8833 - val_loss: 2.5672 - val_acc: 0.5997\n"
     ]
    },
    {
     "data": {
      "text/plain": [
       "<tensorflow.python.keras.callbacks.History at 0x27cbdced908>"
      ]
     },
     "execution_count": 174,
     "metadata": {},
     "output_type": "execute_result"
    }
   ],
   "source": [
    "temp_m.model.fit(de_train_X_pad, de_train_y, epochs=100, validation_split=0.2, batch_size=32,\n",
    "                callbacks=[tf.keras.callbacks.EarlyStopping(patience=5, restore_best_weights=True)])"
   ]
  },
  {
   "cell_type": "code",
   "execution_count": 159,
   "id": "fb7206be",
   "metadata": {},
   "outputs": [
    {
     "data": {
      "text/plain": [
       "139"
      ]
     },
     "execution_count": 159,
     "metadata": {},
     "output_type": "execute_result"
    }
   ],
   "source": [
    "len(de_train_X_pad)"
   ]
  },
  {
   "cell_type": "code",
   "execution_count": 177,
   "id": "ee469554",
   "metadata": {},
   "outputs": [],
   "source": [
    "re = temp_m.model.predict(pad_sequences(tokenizer.texts_to_sequences(test_X_text), maxlen=150))"
   ]
  },
  {
   "cell_type": "code",
   "execution_count": 193,
   "id": "e5264467",
   "metadata": {},
   "outputs": [],
   "source": [
    "result_re = pd.Series(np.argmax(re, axis=1)).apply(lambda x:de_encoder.classes_[x])"
   ]
  },
  {
   "cell_type": "code",
   "execution_count": 194,
   "id": "eb260d67",
   "metadata": {},
   "outputs": [],
   "source": [
    "submit = pd.read_csv('sample_submission.csv')\n",
    "submit['cat3'] = result_re\n",
    "submit.to_csv('submit_1017.csv', index=False)"
   ]
  },
  {
   "cell_type": "code",
   "execution_count": 186,
   "id": "244608a8",
   "metadata": {},
   "outputs": [],
   "source": [
    "under = np.unique(train_data['cat3'], return_counts=True)[1]<10\n",
    "over = np.unique(train_data['cat3'], return_counts=True)[1]>10"
   ]
  },
  {
   "cell_type": "code",
   "execution_count": 185,
   "id": "b17e7fd8",
   "metadata": {},
   "outputs": [
    {
     "data": {
      "text/plain": [
       "array(['ATV', 'MTB', '대중콘서트', '면세점', '뮤지컬', '발전소', '백화점', '번지점프', '분수',\n",
       "       '빙벽등반', '사격장', '스노쿨링/스킨스쿠버다이빙', '스카이다이빙', '스키/스노보드', '연극', '영화관',\n",
       "       '외국문화원', '이색체험', '인라인(실내 인라인 포함)', '전통공연', '카지노', '카트', '클래식음악회',\n",
       "       '클럽', '터널', '학교', '헹글라이딩/패러글라이딩'], dtype=object)"
      ]
     },
     "execution_count": 185,
     "metadata": {},
     "output_type": "execute_result"
    }
   ],
   "source": [
    "np.unique(train_data['cat3'], return_counts=True)[0][under]"
   ]
  },
  {
   "cell_type": "code",
   "execution_count": 187,
   "id": "0e34f317",
   "metadata": {},
   "outputs": [
    {
     "data": {
      "text/plain": [
       "array(['5일장', '강', '게스트하우스', '계곡', '고궁', '고택', '골프', '공연장', '공예,공방', '공원',\n",
       "       '관광단지', '국립공원', '군립공원', '기념관', '기념탑/기념비/전망대', '기암괴석', '기타', '기타행사',\n",
       "       '농.산.어촌 체험', '다리/대교', '대형서점', '도립공원', '도서관', '동굴', '동상', '등대',\n",
       "       '래프팅', '모텔', '문', '문화관광축제', '문화원', '문화전수시설', '미술관/화랑', '민물낚시',\n",
       "       '민박', '민속마을', '바/까페', '바다낚시', '박람회', '박물관', '복합 레포츠', '사찰', '산',\n",
       "       '상설시장', '생가', '서비스드레지던스', '서양식', '섬', '성', '수련시설', '수목원', '수상레포츠',\n",
       "       '수영', '스케이트', '스키(보드) 렌탈샵', '승마', '썰매장', '안보관광', '야영장,오토캠핑장',\n",
       "       '약수터', '온천/욕장/스파', '요트', '윈드서핑/제트스키', '유람선/잠수함관광', '유명건물', '유스호스텔',\n",
       "       '유원지', '유적지/사적지', '이색거리', '이색찜질방', '일반축제', '일식', '자동차경주',\n",
       "       '자연생태관광지', '자연휴양림', '자전거하이킹', '전문상가', '전시관', '종교성지', '중식', '채식전문점',\n",
       "       '컨벤션', '컨벤션센터', '콘도미니엄', '테마공원', '트래킹', '특산물판매점', '패밀리레스토랑', '펜션',\n",
       "       '폭포', '한식', '한옥스테이', '항구/포구', '해수욕장', '해안절경', '헬스투어', '호수', '홈스테이',\n",
       "       '희귀동.식물'], dtype=object)"
      ]
     },
     "execution_count": 187,
     "metadata": {},
     "output_type": "execute_result"
    }
   ],
   "source": [
    "np.unique(train_data['cat3'], return_counts=True)[0][over]"
   ]
  },
  {
   "cell_type": "code",
   "execution_count": null,
   "id": "c11c3197",
   "metadata": {},
   "outputs": [],
   "source": []
  }
 ],
 "metadata": {
  "kernelspec": {
   "display_name": "Python 3 (ipykernel)",
   "language": "python",
   "name": "python3"
  },
  "language_info": {
   "codemirror_mode": {
    "name": "ipython",
    "version": 3
   },
   "file_extension": ".py",
   "mimetype": "text/x-python",
   "name": "python",
   "nbconvert_exporter": "python",
   "pygments_lexer": "ipython3",
   "version": "3.7.4"
  }
 },
 "nbformat": 4,
 "nbformat_minor": 5
}
