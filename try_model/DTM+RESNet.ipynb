{
 "cells": [
  {
   "cell_type": "code",
   "execution_count": 1,
   "id": "a9a845bc",
   "metadata": {},
   "outputs": [],
   "source": [
    "import numpy as np\n",
    "import pandas as pd\n",
    "import tensorflow as tf\n",
    "from tqdm import tqdm\n",
    "from PIL import Image\n",
    "import warnings\n",
    "warnings.filterwarnings('ignore')\n",
    "\n",
    "import os, sys\n",
    "import tensorflow.keras.layers as lay"
   ]
  },
  {
   "cell_type": "code",
   "execution_count": 2,
   "id": "791b87be",
   "metadata": {},
   "outputs": [
    {
     "name": "stdout",
     "output_type": "stream",
     "text": [
      "filepath:  C:\\Anaconda3\\lib\\site-packages\n",
      "classpath:  C:\\Anaconda3\\lib\\site-packages\\rhinoMorph/lib/rhino.jar\n",
      "RHINO started!\n"
     ]
    }
   ],
   "source": [
    "import rhinoMorph\n",
    "rn = rhinoMorph.startRhino()"
   ]
  },
  {
   "cell_type": "markdown",
   "id": "58b97f27",
   "metadata": {},
   "source": [
    "###  데이터"
   ]
  },
  {
   "cell_type": "code",
   "execution_count": 14,
   "id": "2676f41b",
   "metadata": {},
   "outputs": [],
   "source": [
    "class Rawdata:\n",
    "    def __init__(self):\n",
    "        train_df = pd.read_csv('train.csv')\n",
    "        test_df = pd.read_csv('test.csv')\n",
    "        \n",
    "        # 훈련데이터 타겟\n",
    "        self.train_y_cat1 = train_df['cat1']\n",
    "        self.train_y = train_df['cat3']\n",
    "        \n",
    "        # 문장데이터 / 형태소분석\n",
    "        train_sentence_temp = train_df['overview']\n",
    "        test_sentence_temp = test_df['overview']\n",
    "        \n",
    "        pos = ['NNP','NNG','XR','IC','VV','VA','MM','MAG']\n",
    "        train_morph = []\n",
    "        test_morph = []\n",
    "        \n",
    "        for i in tqdm(range(len(train_sentence_temp))):\n",
    "            train_morph.append(rhinoMorph.onlyMorph_list(rn, train_sentence_temp[i], pos = pos))\n",
    "        for i in tqdm(range(len(test_sentence_temp))):\n",
    "            test_morph.append(rhinoMorph.onlyMorph_list(rn, test_sentence_temp[i], pos = pos))\n",
    "            \n",
    "        self.train_sentence = pd.Series(train_morph)\n",
    "        self.test_sentence = pd.Series(test_morph)\n",
    "        \n",
    "        # 이미지 데이터 / 리사이징 -> (128,128)\n",
    "        train_img_path = train_df['img_path']\n",
    "        test_img_path = test_df['img_path']\n",
    "        train_img = []\n",
    "        test_img = []\n",
    "        \n",
    "        for i in tqdm(range(len(train_img_path))):\n",
    "            temp = Image.open(train_img_path[i])\n",
    "            temp = np.array(temp.resize((128,128)))\n",
    "            train_img.append(temp)\n",
    "            \n",
    "        for i in tqdm(range(len(test_img_path))):\n",
    "            temp = Image.open(test_img_path[i])\n",
    "            temp = np.array(temp.resize((128,128)))\n",
    "            test_img.append(temp)\n",
    "            \n",
    "        self.train_img = np.array(train_img)\n",
    "        self.test_img = np.array(test_img)\n",
    "        \n",
    "    def load_sentence(self):\n",
    "        return (self.train_sentence, self.test_sentence)\n",
    "    \n",
    "    def load_img(self):\n",
    "        return (self.train_img, self.test_img)\n",
    "    \n",
    "    def load_target(self, cat1 = False):\n",
    "        if cat1 == True:\n",
    "            return (self.train_y_cat1, self.train_y)\n",
    "        return self.train_y"
   ]
  },
  {
   "cell_type": "code",
   "execution_count": 15,
   "id": "19c5594f",
   "metadata": {},
   "outputs": [
    {
     "name": "stderr",
     "output_type": "stream",
     "text": [
      "100%|███████████████████████████████████████████████████████████████████████████| 16986/16986 [01:24<00:00, 201.13it/s]\n",
      "100%|█████████████████████████████████████████████████████████████████████████████| 7280/7280 [00:37<00:00, 193.69it/s]\n",
      "100%|████████████████████████████████████████████████████████████████████████████| 16986/16986 [03:31<00:00, 80.15it/s]\n",
      "100%|██████████████████████████████████████████████████████████████████████████████| 7280/7280 [01:32<00:00, 78.96it/s]\n"
     ]
    }
   ],
   "source": [
    "rawdata = Rawdata()"
   ]
  },
  {
   "cell_type": "code",
   "execution_count": 25,
   "id": "80c804ff",
   "metadata": {},
   "outputs": [],
   "source": [
    "np.save('train_img.npy', rawdata.load_img()[0])\n",
    "np.save('test_img.npy', rawdata.load_img()[1])"
   ]
  },
  {
   "cell_type": "code",
   "execution_count": 28,
   "id": "bca30ad8",
   "metadata": {},
   "outputs": [],
   "source": [
    "pd.DataFrame(rawdata.load_sentence()[0]).to_csv('train_sentence.csv')\n",
    "pd.DataFrame(rawdata.load_sentence()[1]).to_csv('test_sentence.csv')"
   ]
  },
  {
   "cell_type": "code",
   "execution_count": null,
   "id": "b8859e09",
   "metadata": {},
   "outputs": [],
   "source": []
  },
  {
   "cell_type": "code",
   "execution_count": 30,
   "id": "2d4ac306",
   "metadata": {},
   "outputs": [],
   "source": [
    "from tensorflow.keras.layers import Dense, Dropout, Input"
   ]
  },
  {
   "cell_type": "code",
   "execution_count": null,
   "id": "9706954f",
   "metadata": {},
   "outputs": [],
   "source": []
  },
  {
   "cell_type": "code",
   "execution_count": 38,
   "id": "63fccf25",
   "metadata": {},
   "outputs": [],
   "source": [
    "from tensorflow.keras.preprocessing.text import Tokenizer\n",
    "from tensorflow.keras.preprocessing.sequence import pad_sequences\n",
    "from tensorflow.keras.utils import to_categorical\n",
    "from sklearn.preprocessing import LabelEncoder"
   ]
  },
  {
   "cell_type": "code",
   "execution_count": 32,
   "id": "9a79c457",
   "metadata": {},
   "outputs": [],
   "source": [
    "tk = Tokenizer(num_words=10000)"
   ]
  },
  {
   "cell_type": "code",
   "execution_count": 33,
   "id": "3f9f7ed1",
   "metadata": {},
   "outputs": [],
   "source": [
    "tk.fit_on_texts(rawdata.load_sentence()[0])"
   ]
  },
  {
   "cell_type": "code",
   "execution_count": 35,
   "id": "1985406e",
   "metadata": {},
   "outputs": [],
   "source": [
    "X = tk.texts_to_sequences(rawdata.load_sentence()[0])"
   ]
  },
  {
   "cell_type": "code",
   "execution_count": 48,
   "id": "f1618273",
   "metadata": {},
   "outputs": [],
   "source": [
    "result = np.zeros((len(X), 10000))\n",
    "for i in range(len(result)):\n",
    "    result[i,X[i]] += 1"
   ]
  },
  {
   "cell_type": "code",
   "execution_count": 37,
   "id": "a91e247d",
   "metadata": {},
   "outputs": [],
   "source": [
    "y = rawdata.load_target(cat1=True)[0]"
   ]
  },
  {
   "cell_type": "code",
   "execution_count": 60,
   "id": "78f698fa",
   "metadata": {},
   "outputs": [],
   "source": [
    "from sklearn.preprocessing import LabelEncoder\n",
    "enc = LabelEncoder()\n",
    "enc.fit(y)\n",
    "yy = enc.transform(y)"
   ]
  },
  {
   "cell_type": "code",
   "execution_count": 40,
   "id": "9f4c761c",
   "metadata": {},
   "outputs": [],
   "source": [
    "from tensorflow.keras.layers import Input, Dense, Dropout"
   ]
  },
  {
   "cell_type": "code",
   "execution_count": 70,
   "id": "d178ea77",
   "metadata": {},
   "outputs": [],
   "source": [
    "from sklearn.model_selection import train_test_split"
   ]
  },
  {
   "cell_type": "code",
   "execution_count": 71,
   "id": "0dc27dfe",
   "metadata": {},
   "outputs": [],
   "source": [
    "train_x, test_x , train_y, test_y = train_test_split(result, yy)"
   ]
  },
  {
   "cell_type": "code",
   "execution_count": 77,
   "id": "98a6682c",
   "metadata": {},
   "outputs": [],
   "source": [
    "inputs = Input(shape=(10000,))\n",
    "\n",
    "d1 = Dense(64, activation='relu')(inputs)\n",
    "dr1 = Dropout(0.5)(d1)\n",
    "d2 = Dense(256, activation='relu')(dr1)\n",
    "dr2 = Dropout(0.4)(d2)\n",
    "d3 = Dense(128, activation='relu')(dr2)\n",
    "dr3 = Dropout(0.4)(d3)\n",
    "\n",
    "outputs = Dense(len(enc.classes_), activation='softmax')(dr3)"
   ]
  },
  {
   "cell_type": "code",
   "execution_count": 78,
   "id": "b5cc78d3",
   "metadata": {},
   "outputs": [],
   "source": [
    "model = tf.keras.models.Model(inputs, outputs)"
   ]
  },
  {
   "cell_type": "code",
   "execution_count": 79,
   "id": "ca8f337f",
   "metadata": {},
   "outputs": [],
   "source": [
    "model.compile(optimizer='adam', loss='sparse_categorical_crossentropy', metrics=['acc'])"
   ]
  },
  {
   "cell_type": "code",
   "execution_count": 80,
   "id": "84e94e63",
   "metadata": {},
   "outputs": [
    {
     "name": "stdout",
     "output_type": "stream",
     "text": [
      "Epoch 1/10\n",
      "319/319 [==============================] - 2s 6ms/step - loss: 0.8068 - acc: 0.7162 - val_loss: 0.4513 - val_acc: 0.8414\n",
      "Epoch 2/10\n",
      "319/319 [==============================] - 1s 4ms/step - loss: 0.3467 - acc: 0.8896 - val_loss: 0.4035 - val_acc: 0.8756\n",
      "Epoch 3/10\n",
      "319/319 [==============================] - 1s 4ms/step - loss: 0.2018 - acc: 0.9360 - val_loss: 0.4170 - val_acc: 0.8807\n",
      "Epoch 4/10\n",
      "319/319 [==============================] - 1s 4ms/step - loss: 0.1370 - acc: 0.9575 - val_loss: 0.5186 - val_acc: 0.8795\n",
      "Epoch 5/10\n",
      "319/319 [==============================] - 1s 4ms/step - loss: 0.0975 - acc: 0.9701 - val_loss: 0.5434 - val_acc: 0.8799\n",
      "Epoch 6/10\n",
      "319/319 [==============================] - 1s 4ms/step - loss: 0.0836 - acc: 0.9748 - val_loss: 0.5994 - val_acc: 0.8815\n",
      "Epoch 7/10\n",
      "319/319 [==============================] - 1s 4ms/step - loss: 0.0732 - acc: 0.9776 - val_loss: 0.6110 - val_acc: 0.8799\n",
      "Epoch 8/10\n",
      "319/319 [==============================] - 1s 4ms/step - loss: 0.0639 - acc: 0.9805 - val_loss: 0.6605 - val_acc: 0.8787\n",
      "Epoch 9/10\n",
      "319/319 [==============================] - 1s 4ms/step - loss: 0.0576 - acc: 0.9822 - val_loss: 0.6768 - val_acc: 0.8764\n",
      "Epoch 10/10\n",
      "319/319 [==============================] - 1s 4ms/step - loss: 0.0580 - acc: 0.9840 - val_loss: 0.7500 - val_acc: 0.8772\n"
     ]
    },
    {
     "data": {
      "text/plain": [
       "<tensorflow.python.keras.callbacks.History at 0x1b101285148>"
      ]
     },
     "execution_count": 80,
     "metadata": {},
     "output_type": "execute_result"
    }
   ],
   "source": [
    "model.fit(train_x, train_y, epochs=10, validation_split=0.2)"
   ]
  },
  {
   "cell_type": "code",
   "execution_count": 116,
   "id": "c073c027",
   "metadata": {},
   "outputs": [
    {
     "name": "stdout",
     "output_type": "stream",
     "text": [
      "133/133 [==============================] - 0s 1ms/step - loss: 0.6911 - acc: 0.8806\n"
     ]
    },
    {
     "data": {
      "text/plain": [
       "[0.6910805702209473, 0.880621612071991]"
      ]
     },
     "execution_count": 116,
     "metadata": {},
     "output_type": "execute_result"
    }
   ],
   "source": [
    "model.evaluate(test_x, test_y)"
   ]
  },
  {
   "cell_type": "code",
   "execution_count": 83,
   "id": "49059cdd",
   "metadata": {},
   "outputs": [
    {
     "data": {
      "text/plain": [
       "array([1, 0, 5, 3, 0], dtype=int64)"
      ]
     },
     "execution_count": 83,
     "metadata": {},
     "output_type": "execute_result"
    }
   ],
   "source": [
    "np.argmax(model.predict(test_x[:5]), axis=1)"
   ]
  },
  {
   "cell_type": "code",
   "execution_count": 84,
   "id": "7364b2a4",
   "metadata": {},
   "outputs": [
    {
     "data": {
      "text/plain": [
       "'쇼핑'"
      ]
     },
     "execution_count": 84,
     "metadata": {},
     "output_type": "execute_result"
    }
   ],
   "source": [
    "enc.classes_[1]"
   ]
  },
  {
   "cell_type": "code",
   "execution_count": 89,
   "id": "044fde74",
   "metadata": {},
   "outputs": [
    {
     "data": {
      "text/plain": [
       "(16986, 10000)"
      ]
     },
     "execution_count": 89,
     "metadata": {},
     "output_type": "execute_result"
    }
   ],
   "source": [
    "result.shape"
   ]
  },
  {
   "cell_type": "code",
   "execution_count": 94,
   "id": "7249dbd6",
   "metadata": {},
   "outputs": [],
   "source": [
    "class0_label = data['cat3'][data['cat1'] == enc.classes_[0]].unique()"
   ]
  },
  {
   "cell_type": "code",
   "execution_count": 99,
   "id": "5bc07c8e",
   "metadata": {},
   "outputs": [],
   "source": [
    "sub0_enc = LabelEncoder()\n",
    "sub0_enc.fit(class0_label)\n",
    "class0_target = data['cat3'][data['cat1'] == enc.classes_[0]]\n",
    "class0_y = sub0_enc.transform(class0_target)"
   ]
  },
  {
   "cell_type": "code",
   "execution_count": 95,
   "id": "f8a6e8c7",
   "metadata": {},
   "outputs": [],
   "source": [
    "class0_text = result[data['cat1'] == enc.classes_[0]]"
   ]
  },
  {
   "cell_type": "code",
   "execution_count": 100,
   "id": "6dcc6316",
   "metadata": {},
   "outputs": [],
   "source": [
    "train_x0, test_x0, train_y0, test_y0 = train_test_split(class0_text, class0_y)"
   ]
  },
  {
   "cell_type": "code",
   "execution_count": 102,
   "id": "1e276ba5",
   "metadata": {},
   "outputs": [],
   "source": [
    "sub0_inputs = Input(shape=(10000,))\n",
    "\n",
    "sub0_d1 = Dense(64, activation='relu')(sub0_inputs)\n",
    "sub0_dr1 = Dropout(0.5)(sub0_d1)\n",
    "sub0_d2 = Dense(256, activation='relu')(sub0_dr1)\n",
    "sub0_dr2 = Dropout(0.4)(sub0_d2)\n",
    "sub0_d3 = Dense(128, activation='relu')(sub0_dr2)\n",
    "sub0_dr3 = Dropout(0.4)(sub0_d3)\n",
    "\n",
    "sub0_outputs = Dense(len(sub0_enc.classes_), activation='softmax')(sub0_dr3)\n",
    "\n",
    "\n",
    "sub_model_0 = tf.keras.models.Model(sub0_inputs, sub0_outputs)"
   ]
  },
  {
   "cell_type": "code",
   "execution_count": 103,
   "id": "bd17cb32",
   "metadata": {},
   "outputs": [],
   "source": [
    "sub_model_0.compile(optimizer='adam', loss='sparse_categorical_crossentropy', metrics=['acc'])"
   ]
  },
  {
   "cell_type": "code",
   "execution_count": 113,
   "id": "36100342",
   "metadata": {},
   "outputs": [
    {
     "name": "stdout",
     "output_type": "stream",
     "text": [
      "Epoch 1/10\n",
      "49/49 [==============================] - 0s 5ms/step - loss: 0.1993 - acc: 0.9483 - val_loss: 0.5629 - val_acc: 0.8929\n",
      "Epoch 2/10\n",
      "49/49 [==============================] - 0s 5ms/step - loss: 0.1850 - acc: 0.9451 - val_loss: 0.5107 - val_acc: 0.9005\n",
      "Epoch 3/10\n",
      "49/49 [==============================] - 0s 4ms/step - loss: 0.1857 - acc: 0.9438 - val_loss: 0.5322 - val_acc: 0.9005\n",
      "Epoch 4/10\n",
      "49/49 [==============================] - 0s 4ms/step - loss: 0.1836 - acc: 0.9457 - val_loss: 0.5526 - val_acc: 0.9031\n",
      "Epoch 5/10\n",
      "49/49 [==============================] - 0s 4ms/step - loss: 0.1965 - acc: 0.9419 - val_loss: 0.5700 - val_acc: 0.8929\n",
      "Epoch 6/10\n",
      "49/49 [==============================] - 0s 5ms/step - loss: 0.1623 - acc: 0.9502 - val_loss: 0.5513 - val_acc: 0.9031\n",
      "Epoch 7/10\n",
      "49/49 [==============================] - 0s 4ms/step - loss: 0.1526 - acc: 0.9585 - val_loss: 0.6075 - val_acc: 0.8929\n",
      "Epoch 8/10\n",
      "49/49 [==============================] - 0s 4ms/step - loss: 0.1784 - acc: 0.9483 - val_loss: 0.5630 - val_acc: 0.8878\n",
      "Epoch 9/10\n",
      "49/49 [==============================] - 0s 4ms/step - loss: 0.1654 - acc: 0.9476 - val_loss: 0.6501 - val_acc: 0.8903\n",
      "Epoch 10/10\n",
      "49/49 [==============================] - 0s 5ms/step - loss: 0.1623 - acc: 0.9515 - val_loss: 0.6039 - val_acc: 0.8801\n"
     ]
    },
    {
     "data": {
      "text/plain": [
       "<tensorflow.python.keras.callbacks.History at 0x1b17e5ac3c8>"
      ]
     },
     "execution_count": 113,
     "metadata": {},
     "output_type": "execute_result"
    }
   ],
   "source": [
    "sub_model_0.fit(train_x0, train_y0, epochs=10, validation_split=0.2)"
   ]
  },
  {
   "cell_type": "code",
   "execution_count": 114,
   "id": "2a296231",
   "metadata": {},
   "outputs": [
    {
     "name": "stdout",
     "output_type": "stream",
     "text": [
      "21/21 [==============================] - 0s 1ms/step - loss: 0.6377 - acc: 0.8928\n"
     ]
    },
    {
     "data": {
      "text/plain": [
       "[0.6377416253089905, 0.8928024768829346]"
      ]
     },
     "execution_count": 114,
     "metadata": {},
     "output_type": "execute_result"
    }
   ],
   "source": [
    "sub_model_0.evaluate(test_x0, test_y0)"
   ]
  },
  {
   "cell_type": "code",
   "execution_count": 117,
   "id": "f29c3084",
   "metadata": {},
   "outputs": [],
   "source": [
    "temp_result = model.predict(test_x)"
   ]
  },
  {
   "cell_type": "code",
   "execution_count": 119,
   "id": "4cf368f5",
   "metadata": {},
   "outputs": [],
   "source": [
    "temp_result = np.argmax(temp_result, axis=1)"
   ]
  },
  {
   "cell_type": "code",
   "execution_count": 120,
   "id": "db22322c",
   "metadata": {},
   "outputs": [],
   "source": [
    "new_x = test_x[temp_result ==0]\n",
    "new_y = test_y[temp_result ==0]"
   ]
  },
  {
   "cell_type": "code",
   "execution_count": 121,
   "id": "ffb07503",
   "metadata": {},
   "outputs": [
    {
     "name": "stdout",
     "output_type": "stream",
     "text": [
      "20/20 [==============================] - 0s 1ms/step - loss: 47.4585 - acc: 0.0049\n"
     ]
    },
    {
     "data": {
      "text/plain": [
       "[47.4585075378418, 0.00486223679035902]"
      ]
     },
     "execution_count": 121,
     "metadata": {},
     "output_type": "execute_result"
    }
   ],
   "source": [
    "sub_model_0.evaluate(new_x, new_y)"
   ]
  },
  {
   "cell_type": "code",
   "execution_count": null,
   "id": "e20acd76",
   "metadata": {},
   "outputs": [],
   "source": []
  }
 ],
 "metadata": {
  "kernelspec": {
   "display_name": "Python 3 (ipykernel)",
   "language": "python",
   "name": "python3"
  },
  "language_info": {
   "codemirror_mode": {
    "name": "ipython",
    "version": 3
   },
   "file_extension": ".py",
   "mimetype": "text/x-python",
   "name": "python",
   "nbconvert_exporter": "python",
   "pygments_lexer": "ipython3",
   "version": "3.7.4"
  }
 },
 "nbformat": 4,
 "nbformat_minor": 5
}
